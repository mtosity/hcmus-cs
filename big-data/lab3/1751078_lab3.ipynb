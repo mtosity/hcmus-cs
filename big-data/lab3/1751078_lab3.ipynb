{
 "cells": [
  {
   "cell_type": "code",
   "execution_count": 1,
   "metadata": {},
   "outputs": [],
   "source": [
    "from pyspark import SparkConf, SparkContext\n",
    "\n",
    "conf = SparkConf().setMaster(\"yarn\").setAppName(\"Lab 3\")\n",
    "sc = SparkContext.getOrCreate(conf=conf)"
   ]
  },
  {
   "cell_type": "code",
   "execution_count": null,
   "metadata": {},
   "outputs": [],
   "source": []
  },
  {
   "cell_type": "code",
   "execution_count": 2,
   "metadata": {},
   "outputs": [
    {
     "data": {
      "text/html": [
       "\n",
       "        <div>\n",
       "            <p><b>SparkContext</b></p>\n",
       "\n",
       "            <p><a href=\"http://edge:4050\">Spark UI</a></p>\n",
       "\n",
       "            <dl>\n",
       "              <dt>Version</dt>\n",
       "                <dd><code>v2.4.5</code></dd>\n",
       "              <dt>Master</dt>\n",
       "                <dd><code>yarn</code></dd>\n",
       "              <dt>AppName</dt>\n",
       "                <dd><code>Lab 3</code></dd>\n",
       "            </dl>\n",
       "        </div>\n",
       "        "
      ],
      "text/plain": [
       "<SparkContext master=yarn appName=Lab 3>"
      ]
     },
     "execution_count": 2,
     "metadata": {},
     "output_type": "execute_result"
    }
   ],
   "source": [
    "# display my SparkContext information\n",
    "sc"
   ]
  },
  {
   "cell_type": "code",
   "execution_count": null,
   "metadata": {},
   "outputs": [],
   "source": []
  },
  {
   "cell_type": "code",
   "execution_count": 3,
   "metadata": {},
   "outputs": [],
   "source": [
    "# input set 1:\n",
    "# M = [(1, 1, 1), (1, 2, 3), (2, 1, 2), (2, 2, 4), (3, 1, 6), (3, 2, 5)]\n",
    "# N = [(1, 1, 8), (1, 2, 10), (2, 1, 7), (2, 2, 9)]\n",
    "\n",
    "# input set 2:\n",
    "# M = [(1, 1, 1), (1, 2, 2), (2, 1, 3), (2, 2, 4), (3, 1, 5), (3, 2, 6)]\n",
    "# N = [(1, 1, 7), (1, 2, 8), (2, 1, 9), (2, 2, 10)]\n",
    "\n",
    "# input set 3:\n",
    "M = [(1, 1, 1), (1, 2, 2), (2, 1, 3), (2, 2, 4), (3, 1, 5), (3, 2, 6)]\n",
    "N = [(1, 1, 1), (1, 2, 2), (1, 3, 3), (1, 4, 4), (2, 1, 5), (2, 2, 6), (2, 3, 7), (2, 4, 8)]"
   ]
  },
  {
   "cell_type": "code",
   "execution_count": null,
   "metadata": {},
   "outputs": [],
   "source": []
  },
  {
   "cell_type": "code",
   "execution_count": 4,
   "metadata": {},
   "outputs": [
    {
     "data": {
      "text/plain": [
       "[(1, 1, 1), (1, 2, 2), (2, 1, 3), (2, 2, 4), (3, 1, 5), (3, 2, 6)]"
      ]
     },
     "execution_count": 4,
     "metadata": {},
     "output_type": "execute_result"
    }
   ],
   "source": [
    "m_dist = sc.parallelize(M)\n",
    "m_dist.collect()"
   ]
  },
  {
   "cell_type": "code",
   "execution_count": 5,
   "metadata": {},
   "outputs": [
    {
     "data": {
      "text/plain": [
       "[(1, 1, 1),\n",
       " (1, 2, 2),\n",
       " (1, 3, 3),\n",
       " (1, 4, 4),\n",
       " (2, 1, 5),\n",
       " (2, 2, 6),\n",
       " (2, 3, 7),\n",
       " (2, 4, 8)]"
      ]
     },
     "execution_count": 5,
     "metadata": {},
     "output_type": "execute_result"
    }
   ],
   "source": [
    "n_dist = sc.parallelize(N)\n",
    "n_dist.collect()"
   ]
  },
  {
   "cell_type": "code",
   "execution_count": null,
   "metadata": {},
   "outputs": [],
   "source": []
  },
  {
   "cell_type": "code",
   "execution_count": 6,
   "metadata": {},
   "outputs": [
    {
     "data": {
      "text/plain": [
       "[(1, (1, 1)), (2, (1, 2)), (1, (2, 3)), (2, (2, 4)), (1, (3, 5)), (2, (3, 6))]"
      ]
     },
     "execution_count": 6,
     "metadata": {},
     "output_type": "execute_result"
    }
   ],
   "source": [
    "rdd_m = m_dist.map(lambda m_ij: (m_ij[1], (m_ij[0], m_ij[2])))\n",
    "rdd_m.collect()"
   ]
  },
  {
   "cell_type": "code",
   "execution_count": 8,
   "metadata": {},
   "outputs": [
    {
     "data": {
      "text/plain": [
       "[(1, (1, 1)),\n",
       " (1, (2, 2)),\n",
       " (1, (3, 3)),\n",
       " (1, (4, 4)),\n",
       " (2, (1, 5)),\n",
       " (2, (2, 6)),\n",
       " (2, (3, 7)),\n",
       " (2, (4, 8))]"
      ]
     },
     "execution_count": 8,
     "metadata": {},
     "output_type": "execute_result"
    }
   ],
   "source": [
    "rdd_n = n_dist.map(lambda n_jk: (n_jk[0], (n_jk[1], n_jk[2])))\n",
    "rdd_n.collect()"
   ]
  },
  {
   "cell_type": "code",
   "execution_count": 9,
   "metadata": {},
   "outputs": [
    {
     "data": {
      "text/plain": [
       "[(1, ((1, 1), (1, 1))),\n",
       " (1, ((1, 1), (2, 2))),\n",
       " (1, ((1, 1), (3, 3))),\n",
       " (1, ((1, 1), (4, 4))),\n",
       " (1, ((2, 3), (1, 1))),\n",
       " (1, ((2, 3), (2, 2))),\n",
       " (1, ((2, 3), (3, 3))),\n",
       " (1, ((2, 3), (4, 4))),\n",
       " (1, ((3, 5), (1, 1))),\n",
       " (1, ((3, 5), (2, 2))),\n",
       " (1, ((3, 5), (3, 3))),\n",
       " (1, ((3, 5), (4, 4))),\n",
       " (2, ((2, 4), (1, 5))),\n",
       " (2, ((2, 4), (2, 6))),\n",
       " (2, ((2, 4), (3, 7))),\n",
       " (2, ((2, 4), (4, 8))),\n",
       " (2, ((3, 6), (1, 5))),\n",
       " (2, ((3, 6), (2, 6))),\n",
       " (2, ((3, 6), (3, 7))),\n",
       " (2, ((3, 6), (4, 8))),\n",
       " (2, ((1, 2), (1, 5))),\n",
       " (2, ((1, 2), (2, 6))),\n",
       " (2, ((1, 2), (3, 7))),\n",
       " (2, ((1, 2), (4, 8)))]"
      ]
     },
     "execution_count": 9,
     "metadata": {},
     "output_type": "execute_result"
    }
   ],
   "source": [
    "rdd_join = rdd_m.join(rdd_n)\n",
    "rdd_join.collect()"
   ]
  },
  {
   "cell_type": "code",
   "execution_count": 10,
   "metadata": {},
   "outputs": [
    {
     "data": {
      "text/plain": [
       "[((3, 1), 5),\n",
       " ((3, 2), 10),\n",
       " ((3, 3), 15),\n",
       " ((3, 4), 20),\n",
       " ((1, 1), 1),\n",
       " ((1, 2), 2),\n",
       " ((1, 3), 3),\n",
       " ((1, 4), 4),\n",
       " ((2, 1), 3),\n",
       " ((2, 2), 6),\n",
       " ((2, 3), 9),\n",
       " ((2, 4), 12),\n",
       " ((1, 1), 10),\n",
       " ((1, 2), 12),\n",
       " ((1, 3), 14),\n",
       " ((1, 4), 16),\n",
       " ((2, 1), 20),\n",
       " ((2, 2), 24),\n",
       " ((2, 3), 28),\n",
       " ((2, 4), 32),\n",
       " ((3, 1), 30),\n",
       " ((3, 2), 36),\n",
       " ((3, 3), 42),\n",
       " ((3, 4), 48)]"
      ]
     },
     "execution_count": 10,
     "metadata": {},
     "output_type": "execute_result"
    }
   ],
   "source": [
    "rdd_map = rdd_join.map(lambda row: ((row[1][0][0], row[1][1][0]), row[1][0][1]*row[1][1][1]))\n",
    "rdd_map.collect()"
   ]
  },
  {
   "cell_type": "code",
   "execution_count": 11,
   "metadata": {},
   "outputs": [],
   "source": [
    "rdd = rdd_map.reduceByKey(lambda a, b: a+b)\n",
    "result = sorted(rdd.collect())"
   ]
  },
  {
   "cell_type": "code",
   "execution_count": 12,
   "metadata": {},
   "outputs": [
    {
     "data": {
      "text/plain": [
       "[((1, 1), 11),\n",
       " ((1, 2), 14),\n",
       " ((1, 3), 17),\n",
       " ((1, 4), 20),\n",
       " ((2, 1), 23),\n",
       " ((2, 2), 30),\n",
       " ((2, 3), 37),\n",
       " ((2, 4), 44),\n",
       " ((3, 1), 35),\n",
       " ((3, 2), 46),\n",
       " ((3, 3), 57),\n",
       " ((3, 4), 68)]"
      ]
     },
     "execution_count": 12,
     "metadata": {},
     "output_type": "execute_result"
    }
   ],
   "source": [
    "result"
   ]
  },
  {
   "cell_type": "code",
   "execution_count": null,
   "metadata": {},
   "outputs": [],
   "source": []
  }
 ],
 "metadata": {
  "kernelspec": {
   "display_name": "Python 3",
   "language": "python",
   "name": "python3"
  },
  "language_info": {
   "codemirror_mode": {
    "name": "ipython",
    "version": 3
   },
   "file_extension": ".py",
   "mimetype": "text/x-python",
   "name": "python",
   "nbconvert_exporter": "python",
   "pygments_lexer": "ipython3",
   "version": "3.6.9"
  }
 },
 "nbformat": 4,
 "nbformat_minor": 4
}
