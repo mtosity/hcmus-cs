{
 "cells": [
  {
   "cell_type": "markdown",
   "metadata": {},
   "source": [
    "# BT01: Ẩn tin mật trên văn bản bằng phương pháp chèn khoảng trắng <font color=\"grey\">(chèn khoảng trắng giữa các từ để làm cho văn bản được căn lề 2 bên)\n",
    "\n",
    "\n",
    "Họ tên: Nguyễn Minh Tâm\n",
    "\n",
    "MSSV: 1712746"
   ]
  },
  {
   "cell_type": "markdown",
   "metadata": {},
   "source": [
    "---\n",
    "## Cách làm bài và nộp bài\n",
    "&#9889; Bạn lưu ý là mình sẽ dùng chương trình hỗ trợ chấm bài nên bạn cần phải tuân thủ chính xác qui định mà mình đặt ra, nếu không rõ thì hỏi, chứ không nên tự tiện làm theo ý của cá nhân.\n",
    "\n",
    "**Cách làm bài**\n",
    "\n",
    "Bạn sẽ làm trực tiếp trên file notebook này. Đầu tiên, bạn điền họ tên và MSSV vào phần đầu file ở bên trên. Trong file, bạn làm bài ở những chỗ có ghi là:\n",
    "```python\n",
    "# YOUR CODE HERE\n",
    "raise NotImplementedError()\n",
    "```\n",
    "hoặc đối với những phần code không bắt buộc thì là:\n",
    "```python\n",
    "# YOUR CODE HERE (OPTION)\n",
    "```\n",
    "hoặc đối với markdown cell thì là:\n",
    "```markdown\n",
    "YOUR ANSWER HERE\n",
    "```\n",
    "Tất nhiên, khi làm thì bạn xóa dòng `raise NotImplementedError()` đi.\n",
    "Đối những phần yêu cầu code thì thường ở ngay phía dưới sẽ có một (hoặc một số) cell chứa các bộ test để giúp bạn biết đã code đúng hay chưa; nếu chạy cell này không có lỗi gì thì có nghĩa là qua được các bộ test. Trong một số trường hợp, các bộ test có thể sẽ không đầy đủ; nghĩa là, nếu không qua được test thì là code sai, nhưng nếu qua được test thì chưa chắc đã đúng hoàn toàn.\n",
    "\n",
    "Trong khi làm bài, bạn có thể cho in ra màn hình, tạo thêm các cell để test. Nhưng khi nộp bài thì bạn xóa các cell mà bạn tự tạo, xóa hoặc comment các câu lệnh in ra màn hình. Bạn lưu ý <font color=red>không được tự tiện xóa các cell hay sửa code của Thầy</font> (trừ những chỗ được phép sửa như đã nói ở trên).\n",
    "\n",
    "Trong khi làm bài, thường xuyên `Ctrl + S` để lưu lại bài làm của bạn, tránh mất mát thông tin.\n",
    "\n",
    "\n",
    "*Nên nhớ mục tiêu chính ở đây là <font color=green>học, học một cách chân thật</font>. Bạn có thể thảo luận ý tưởng với bạn khác, nhưng <font color=green>code và bài làm phải là của bạn, dựa trên sự hiểu thật sự của bạn</font>. <font color=red>Nếu vi phạm thì sẽ bị 0 điểm cho toàn bộ môn học.</font>*\n",
    "\n",
    "**Cách nộp bài**\n",
    "\n",
    "Khi chấm bài, đầu tiên mình sẽ chọn `Kernel` - `Restart Kernel & Run All Cells`, để restart và chạy tất cả các cell trong notebook của bạn; do đó, trước khi nộp bài, bạn nên chạy thử `Kernel` - `Restart Kernel & Run All Cells` để đảm bảo mọi chuyện diễn ra đúng như mong đợi.\n",
    "\n",
    "Sau đó, bạn tạo thư mục nộp bài theo cấu trúc sau:\n",
    "- Thư mục `MSSV` (vd, nếu bạn có MSSV là 1234567 thì bạn đặt tên thư mục là `1234567`)\n",
    "    - Thư mục `BT01`\n",
    "        - File `BT01-AnTinMatTrenVanBan_KhoangTrang.ipynb` (không cần nộp các file khác)\n",
    "\n",
    "Cuối cùng, bạn nén thư mục `MSSV` này lại và nộp ở link trên moodle. <font color=red>Bạn lưu ý tuân thủ chính xác cấu trúc này.</font>"
   ]
  },
  {
   "cell_type": "markdown",
   "metadata": {},
   "source": [
    "## 2. Import"
   ]
  },
  {
   "cell_type": "code",
   "execution_count": 1,
   "metadata": {},
   "outputs": [],
   "source": [
    "from bitarray import bitarray"
   ]
  },
  {
   "cell_type": "markdown",
   "metadata": {},
   "source": [
    "## 3. Hàm nhúng (6đ)"
   ]
  },
  {
   "cell_type": "code",
   "execution_count": 2,
   "metadata": {
    "deletable": false,
    "nbgrader": {
     "cell_type": "code",
     "checksum": "620c8c02cddbfa7e68400a1cd6099a5d",
     "grade": false,
     "grade_id": "cell-2f21b430087c5c35",
     "locked": false,
     "schema_version": 3,
     "solution": true,
     "task": false
    }
   },
   "outputs": [],
   "source": [
    "def embed(msg_file, cover_text_file, text_width, stego_text_file):\n",
    "    '''\n",
    "    Nhúng tin mật vào văn bản bằng phương pháp chèn khoảng trắng \n",
    "    để văn bản được căn lề 2 bên.\n",
    "    \n",
    "    Các tham số:\n",
    "        msg_file (str): Tên file chứa secret message.\n",
    "        cover_text_file (str): Tên file chứa cover text.\n",
    "        text_width (int): Chiều dài của dòng sau khi được căn lề.\n",
    "        stego_text_file (str): Tên file chứa stego text.\n",
    "    Giá trị trả về:\n",
    "        bool: True nếu nhúng thành không, False nếu không đủ chỗ để nhúng. \n",
    "    '''\n",
    "    # Read cover text file\n",
    "    with open(cover_text_file, 'r') as f:\n",
    "        cover_text_lines = f.read().splitlines()\n",
    "    \n",
    "    # Read msg file\n",
    "    with open(msg_file, 'r') as f:\n",
    "        msg = f.read()\n",
    "    \n",
    "    # Convert msg to msg bits\n",
    "    msg_bits = bitarray();\n",
    "    msg_bits.frombytes(msg.encode('utf-8'))\n",
    "    \n",
    "    # Embed msg bits into cover text lines\n",
    "    stego_text = \"\"\n",
    "    b = 0\n",
    "    ended = False # tức bit 1 trong dãy 10000 đã được add vào chưa\n",
    "    \n",
    "    for idx, line in enumerate(cover_text_lines):\n",
    "        if(idx == len(cover_text_lines) - 1): # last line in file\n",
    "            stego_text += line;\n",
    "            break;\n",
    "        elif(cover_text_lines[idx+1] == \"\"): # last line in paragraph\n",
    "            stego_text += (line+\"\\n\");\n",
    "            continue;\n",
    "        \n",
    "        # support variables\n",
    "        next_stego_line = \"\" # kết quả\n",
    "        words = line.split(' ')\n",
    "        n = line.count(' ') # n = số khoảng trắng của dòng l\n",
    "        m = text_width - len(line) # m = số khoảng trắng cần phải chèn để dòng l được căn lề\n",
    "        num_spaces_inserted = 0; # số khoảng cách đã duyệt\n",
    "        n_bits = min(m, n-m) if min(m, n-m) > 0 else 0 # số msg_bit nhúng được = số cặp\n",
    "        num_words_left = len(words) # số từ còn lại\n",
    "        num_spaces_left = n+m # số khoảng cách còn lại\n",
    "        \n",
    "        if m < n and m > 0:\n",
    "            # loop pair spaces\n",
    "            for i in range(n_bits):\n",
    "                if b < len(msg_bits):\n",
    "                    #nhúng msg_bits[b]\n",
    "                    if(msg_bits[b] == True): # bit 1 => 1 kc + 2 kc\n",
    "                        next_stego_line += (words[i*2] + \" \" + words[i*2+1] + \"  \")\n",
    "                    else: # bit 0 => 2 kc + 1 kc\n",
    "                        next_stego_line += (words[i*2] + \"  \" + words[i*2+1] + \" \")\n",
    "                    \n",
    "                    b += 1;\n",
    "                else:\n",
    "                    if(ended): # bit 1 dãy 100.. đã add vào, thêm bit 0 vào\n",
    "                        next_stego_line += (words[i*2] + \"  \" + words[i*2+1] + \" \")\n",
    "                    else: # bit 1 chưa thêm, thêm bit 1 vào\n",
    "                        next_stego_line += (words[i*2] + \" \" + words[i*2+1] + \"  \")\n",
    "                        ended = True\n",
    "                num_spaces_inserted += 3;\n",
    "            num_words_left -= n_bits*2\n",
    "            num_spaces_left -= num_spaces_inserted;\n",
    "            \n",
    "        # xử lý những từ hay khoảng cách còn lại\n",
    "        if(num_words_left > 1): # không phải từ cuối\n",
    "            for i in range(num_words_left):\n",
    "                num_space = 0 # số khoảng cách cần thêm cho từ kế\n",
    "                if(i != num_words_left - 1): #not last_word\n",
    "                    num_space_each = int(num_spaces_left / (num_words_left-1));\n",
    "                    num_space_addition = (1 if (i < (num_spaces_left-(num_words_left-1)*num_space_each)) else 0);\n",
    "                    num_space = num_space_each + num_space_addition\n",
    "                next_stego_line += (words[n_bits*2 + i] + \" \"*num_space); \n",
    "        else: # từ cuối cùng\n",
    "            next_stego_line += words[n_bits*2]\n",
    "        stego_text += (next_stego_line + \"\\n\");\n",
    "    if (not ended): # chưa nhúng được bit 1 trong dãy 100 thì nhúng thất bại\n",
    "        return False\n",
    "        \n",
    "    # Write stego text to file\n",
    "    with open(stego_text_file, 'w') as f:\n",
    "        f.write(stego_text)   \n",
    "    \n",
    "    return True\n",
    "        \n",
    "        "
   ]
  },
  {
   "cell_type": "code",
   "execution_count": 3,
   "metadata": {
    "deletable": false,
    "editable": false,
    "nbgrader": {
     "cell_type": "code",
     "checksum": "85f0c8333ec0a8e0ed17110b6f0e215d",
     "grade": true,
     "grade_id": "cell-057a58bf038e1e60",
     "locked": true,
     "points": 5,
     "schema_version": 3,
     "solution": false,
     "task": false
    }
   },
   "outputs": [],
   "source": [
    "# TEST 1            \n",
    "result = embed('msg.txt', 'cover.txt', 70, 'stego.txt')\n",
    "assert result == True\n",
    "with open('stego.txt', 'r') as f:\n",
    "    stego_text = f.read()\n",
    "with open('correct_stego.txt', 'r') as f:\n",
    "    correct_stego_text = f.read()\n",
    "assert stego_text == correct_stego_text"
   ]
  },
  {
   "cell_type": "code",
   "execution_count": 4,
   "metadata": {
    "deletable": false,
    "editable": false,
    "nbgrader": {
     "cell_type": "code",
     "checksum": "056ce8f73d36fbfd94beec3c97ec6fff",
     "grade": true,
     "grade_id": "cell-f625774497df6542",
     "locked": true,
     "points": 1,
     "schema_version": 3,
     "solution": false,
     "task": false
    }
   },
   "outputs": [],
   "source": [
    "# TEST 2\n",
    "result = embed('msg2.txt', 'cover.txt', 70, 'stego.txt')\n",
    "assert result == False"
   ]
  },
  {
   "cell_type": "markdown",
   "metadata": {},
   "source": [
    "## 4. Hàm rút trích (4đ)"
   ]
  },
  {
   "cell_type": "code",
   "execution_count": 5,
   "metadata": {
    "deletable": false,
    "nbgrader": {
     "cell_type": "code",
     "checksum": "ab47043df0f050695b889c3d5ad57de2",
     "grade": false,
     "grade_id": "cell-f3f9b34770f282aa",
     "locked": false,
     "schema_version": 3,
     "solution": true,
     "task": false
    }
   },
   "outputs": [],
   "source": [
    "def extract(stego_text_file, extr_msg_file):\n",
    "    '''\n",
    "    Hàm rút trích tin mật đã được nhúng bằng phương pháp chèn khoảng trắng.\n",
    "    \n",
    "    Các tham số:\n",
    "        stego_text_file (str): Tên file chứa stego text.\n",
    "        extr_msg_file (str): Tên file chứa secret message được rút trích.\n",
    "    '''\n",
    "    # Read stego text file\n",
    "    with open(stego_text_file, 'r') as f:\n",
    "        stego_text_lines = f.read().splitlines()\n",
    "    \n",
    "    # Extract msg bits\n",
    "    extr_msg_bits = bitarray()\n",
    "    for line in stego_text_lines:\n",
    "        if(len(line) > 0 and line[0] != ' ' and line[len(line)-1] != ' '): # centered line\n",
    "            i = 0 # loop characters\n",
    "            num_first_space = 0 # số khoảng cách đầu\n",
    "            num_second_space = 0 # số khoảng cách sau\n",
    "            final_bit = False\n",
    "            while(i<len(line)-1):\n",
    "                if(line[i] == ' '): # 12 hay 21 thì thêm, không thì không đọc nữa \n",
    "                    if(line[i+1] == ' ' and  line[i+2] != ' '): # 2 spaces\n",
    "                        if(num_first_space == 0): # then insert to first\n",
    "                            num_first_space = 2\n",
    "                        elif(num_first_space == 1):\n",
    "                            num_second_space = 2\n",
    "                        else:\n",
    "                            break;\n",
    "                        i += 1\n",
    "                    elif(line[i+1] != ' '): # 1 space\n",
    "                        if(num_first_space == 0): # then insert to first\n",
    "                            num_first_space = 1\n",
    "                        elif(num_first_space == 2):\n",
    "                            num_second_space = 1\n",
    "                        else:\n",
    "                            break;\n",
    "                    else:\n",
    "                        break;\n",
    "                \n",
    "                    if(num_first_space == 1 and num_second_space == 2): # insert bit 1\n",
    "                        extr_msg_bits.append(True)\n",
    "                        num_first_space = 0\n",
    "                        num_second_space = 0\n",
    "\n",
    "                    if(num_first_space == 2 and num_second_space == 1): # insert bit 0\n",
    "                        extr_msg_bits.append(False)\n",
    "                        num_first_space = 0\n",
    "                        num_second_space = 0\n",
    "                    \n",
    "                i += 1\n",
    "                    \n",
    "    # bỏ dãy 100... cuối\n",
    "    while(extr_msg_bits[-1] == False): #pop 00...\n",
    "        extr_msg_bits.pop();\n",
    "    extr_msg_bits.pop(); # pop the 1\n",
    "    \n",
    "    # Convert extracted msg bits to msg\n",
    "    extr_msg = extr_msg_bits.tobytes().decode('utf-8')\n",
    "    \n",
    "    # Write extracted msg to file\n",
    "    with open(extr_msg_file, 'w') as f:\n",
    "        f.write(extr_msg)"
   ]
  },
  {
   "cell_type": "code",
   "execution_count": 6,
   "metadata": {
    "deletable": false,
    "editable": false,
    "nbgrader": {
     "cell_type": "code",
     "checksum": "cfe71ad39ca82548561ca5dcb025874d",
     "grade": true,
     "grade_id": "cell-caf1afe26d95b670",
     "locked": true,
     "points": 4,
     "schema_version": 3,
     "solution": false,
     "task": false
    }
   },
   "outputs": [],
   "source": [
    "# TEST\n",
    "extract('correct_stego.txt', 'extr_msg.txt')\n",
    "with open('extr_msg.txt', 'r') as f:\n",
    "    extr_msg = f.read()\n",
    "with open('correct_extr_msg.txt', 'r') as f:\n",
    "    correct_extr_msg = f.read()\n",
    "assert extr_msg == correct_extr_msg"
   ]
  },
  {
   "cell_type": "code",
   "execution_count": null,
   "metadata": {},
   "outputs": [],
   "source": []
  }
 ],
 "metadata": {
  "anaconda-cloud": {},
  "kernelspec": {
   "display_name": "Python 3",
   "language": "python",
   "name": "python3"
  },
  "language_info": {
   "codemirror_mode": {
    "name": "ipython",
    "version": 3
   },
   "file_extension": ".py",
   "mimetype": "text/x-python",
   "name": "python",
   "nbconvert_exporter": "python",
   "pygments_lexer": "ipython3",
   "version": "3.8.5"
  },
  "toc": {
   "nav_menu": {},
   "number_sections": false,
   "sideBar": true,
   "skip_h1_title": true,
   "title_cell": "Table of Contents",
   "title_sidebar": "Contents",
   "toc_cell": false,
   "toc_position": {
    "height": "calc(100% - 180px)",
    "left": "10px",
    "top": "150px",
    "width": "165px"
   },
   "toc_section_display": true,
   "toc_window_display": true
  }
 },
 "nbformat": 4,
 "nbformat_minor": 4
}
