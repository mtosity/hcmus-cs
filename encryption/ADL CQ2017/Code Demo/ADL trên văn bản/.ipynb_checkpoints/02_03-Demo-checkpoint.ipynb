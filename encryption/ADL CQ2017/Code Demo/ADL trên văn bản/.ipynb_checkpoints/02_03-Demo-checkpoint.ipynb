{
 "cells": [
  {
   "cell_type": "markdown",
   "metadata": {},
   "source": [
    "# Demo phương pháp dùng khoảng trắng cuối mỗi dòng"
   ]
  },
  {
   "cell_type": "code",
   "execution_count": 1,
   "metadata": {},
   "outputs": [],
   "source": [
    "from bitarray import bitarray"
   ]
  },
  {
   "cell_type": "code",
   "execution_count": 11,
   "metadata": {},
   "outputs": [
    {
     "name": "stdout",
     "output_type": "stream",
     "text": [
      "Not enough spaces to embed!\n"
     ]
    },
    {
     "data": {
      "text/plain": [
       "False"
      ]
     },
     "execution_count": 11,
     "metadata": {},
     "output_type": "execute_result"
    }
   ],
   "source": [
    "def embed(msg_file, cover_text_file, text_width, stego_text_file):\n",
    "    # Read cover text file\n",
    "    with open(cover_text_file, 'r') as f:\n",
    "        cover_text_lines = f.read().splitlines()\n",
    "    \n",
    "    # Read msg file\n",
    "    with open(msg_file, 'r') as f:\n",
    "        msg = f.read()\n",
    "    \n",
    "    # Convert msg to msg bits\n",
    "    #msg_bits = bitarray(msg)\n",
    "    #msg_bits.fromstring(msg)\n",
    "    \n",
    "    msg_bits = bitarray();\n",
    "    msg_bits.frombytes(msg.encode('utf-8'))\n",
    "    \n",
    "    # Embed msg bits into cover text lines\n",
    "    stego_text = ''\n",
    "    b = 0\n",
    "    for line in cover_text_lines:\n",
    "        stego_text += line\n",
    "        if b < len(msg_bits):\n",
    "            n_allowed_spaces = text_width - len(line)\n",
    "            n_needed_spaces = msg_bits[b] + 1\n",
    "            if n_needed_spaces <= n_allowed_spaces:\n",
    "                stego_text += n_needed_spaces * ' '\n",
    "                b += 1\n",
    "        stego_text += '\\n'\n",
    "    if b < len(msg_bits):\n",
    "        print('Not enough spaces to embed!')\n",
    "        return False\n",
    "    \n",
    "    # Write stego text to file\n",
    "    with open(stego_text_file, 'w') as f:\n",
    "        f.write(stego_text)\n",
    "    return True\n",
    "\n",
    "embed('02_03-msg.txt', '02_03-cover.txt', 70, '02_03-stego.txt')"
   ]
  },
  {
   "cell_type": "code",
   "execution_count": 10,
   "metadata": {},
   "outputs": [
    {
     "ename": "FileNotFoundError",
     "evalue": "[Errno 2] No such file or directory: '02_03-stego.txt'",
     "output_type": "error",
     "traceback": [
      "\u001b[0;31m---------------------------------------------------------------------------\u001b[0m",
      "\u001b[0;31mFileNotFoundError\u001b[0m                         Traceback (most recent call last)",
      "\u001b[0;32m<ipython-input-10-f178618cbc77>\u001b[0m in \u001b[0;36m<module>\u001b[0;34m\u001b[0m\n\u001b[1;32m     19\u001b[0m         \u001b[0mf\u001b[0m\u001b[0;34m.\u001b[0m\u001b[0mwrite\u001b[0m\u001b[0;34m(\u001b[0m\u001b[0mextr_msg\u001b[0m\u001b[0;34m)\u001b[0m\u001b[0;34m\u001b[0m\u001b[0;34m\u001b[0m\u001b[0m\n\u001b[1;32m     20\u001b[0m \u001b[0;34m\u001b[0m\u001b[0m\n\u001b[0;32m---> 21\u001b[0;31m \u001b[0mextract\u001b[0m\u001b[0;34m(\u001b[0m\u001b[0;34m'02_03-stego.txt'\u001b[0m\u001b[0;34m,\u001b[0m \u001b[0;34m'02_03-extr_msg.txt'\u001b[0m\u001b[0;34m)\u001b[0m\u001b[0;34m\u001b[0m\u001b[0;34m\u001b[0m\u001b[0m\n\u001b[0m",
      "\u001b[0;32m<ipython-input-10-f178618cbc77>\u001b[0m in \u001b[0;36mextract\u001b[0;34m(stego_text_file, extr_msg_file)\u001b[0m\n\u001b[1;32m      1\u001b[0m \u001b[0;32mdef\u001b[0m \u001b[0mextract\u001b[0m\u001b[0;34m(\u001b[0m\u001b[0mstego_text_file\u001b[0m\u001b[0;34m,\u001b[0m \u001b[0mextr_msg_file\u001b[0m\u001b[0;34m)\u001b[0m\u001b[0;34m:\u001b[0m\u001b[0;34m\u001b[0m\u001b[0;34m\u001b[0m\u001b[0m\n\u001b[1;32m      2\u001b[0m     \u001b[0;31m# Read stego text file\u001b[0m\u001b[0;34m\u001b[0m\u001b[0;34m\u001b[0m\u001b[0;34m\u001b[0m\u001b[0m\n\u001b[0;32m----> 3\u001b[0;31m     \u001b[0;32mwith\u001b[0m \u001b[0mopen\u001b[0m\u001b[0;34m(\u001b[0m\u001b[0mstego_text_file\u001b[0m\u001b[0;34m,\u001b[0m \u001b[0;34m'r'\u001b[0m\u001b[0;34m)\u001b[0m \u001b[0;32mas\u001b[0m \u001b[0mf\u001b[0m\u001b[0;34m:\u001b[0m\u001b[0;34m\u001b[0m\u001b[0;34m\u001b[0m\u001b[0m\n\u001b[0m\u001b[1;32m      4\u001b[0m         \u001b[0mstego_text_lines\u001b[0m \u001b[0;34m=\u001b[0m \u001b[0mf\u001b[0m\u001b[0;34m.\u001b[0m\u001b[0mread\u001b[0m\u001b[0;34m(\u001b[0m\u001b[0;34m)\u001b[0m\u001b[0;34m.\u001b[0m\u001b[0msplitlines\u001b[0m\u001b[0;34m(\u001b[0m\u001b[0;34m)\u001b[0m\u001b[0;34m\u001b[0m\u001b[0;34m\u001b[0m\u001b[0m\n\u001b[1;32m      5\u001b[0m \u001b[0;34m\u001b[0m\u001b[0m\n",
      "\u001b[0;31mFileNotFoundError\u001b[0m: [Errno 2] No such file or directory: '02_03-stego.txt'"
     ]
    }
   ],
   "source": [
    "def extract(stego_text_file, extr_msg_file):\n",
    "    # Read stego text file\n",
    "    with open(stego_text_file, 'r') as f:\n",
    "        stego_text_lines = f.read().splitlines()\n",
    "    \n",
    "    # Extract msg bits\n",
    "    extr_msg_bits = bitarray()\n",
    "    for line in stego_text_lines:\n",
    "        if line[-2:] == '  ':\n",
    "            extr_msg_bits.append(True)\n",
    "        elif line[-1:] == ' ':\n",
    "            extr_msg_bits.append(False)\n",
    "    \n",
    "    # Convert extracted msg bits to msg\n",
    "    extr_msg = extr_msg_bits.tostring()\n",
    "    \n",
    "    # Write extracted msg to file\n",
    "    with open(extr_msg_file, 'w') as f:\n",
    "        f.write(extr_msg)\n",
    "\n",
    "extract('02_03-stego.txt', '02_03-extr_msg.txt')"
   ]
  },
  {
   "cell_type": "code",
   "execution_count": null,
   "metadata": {},
   "outputs": [],
   "source": []
  }
 ],
 "metadata": {
  "kernelspec": {
   "display_name": "Python 3",
   "language": "python",
   "name": "python3"
  },
  "language_info": {
   "codemirror_mode": {
    "name": "ipython",
    "version": 3
   },
   "file_extension": ".py",
   "mimetype": "text/x-python",
   "name": "python",
   "nbconvert_exporter": "python",
   "pygments_lexer": "ipython3",
   "version": "3.8.5"
  }
 },
 "nbformat": 4,
 "nbformat_minor": 4
}
