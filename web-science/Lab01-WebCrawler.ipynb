{
 "cells": [
  {
   "cell_type": "markdown",
   "metadata": {
    "colab_type": "text",
    "id": "2pCaNEE5V4Kd"
   },
   "source": [
    "# Lab01: Web Crawler.\n",
    "\n",
    "- MSSV: 1712746\n",
    "- Họ và tên: Nguyễn Minh Tâm"
   ]
  },
  {
   "cell_type": "markdown",
   "metadata": {
    "colab_type": "text",
    "id": "RW12ABtEV4Kf"
   },
   "source": [
    "## Yêu cầu bài tập\n",
    "\n",
    "**Cách làm bài**\n",
    "\n",
    "\n",
    "Bạn sẽ làm trực tiếp trên file notebook này; trong file, từ `TODO` để cho biết những phần mà bạn cần phải làm.\n",
    "\n",
    "Bạn có thể thảo luận ý tưởng cũng như tham khảo các tài liệu, nhưng *code và bài làm phải là của bạn*. \n",
    "\n",
    "Nếu vi phạm thì sẽ bị 0 điểm cho bài tập này.\n",
    "\n",
    "**Cách nộp bài**\n",
    "\n",
    "Trước khi nộp bài, rerun lại notebook (`Kernel` -> `Restart & Run All`).\n",
    "\n",
    "Sau đó, tạo thư mục có tên `MSSV` của bạn (vd, nếu bạn có MSSV là 1234567 thì bạn đặt tên thư mục là `1234567`) Chép file `Lab01-WebCrawler.ipynb`, `links.txt`, `images.txt` vào, rồi nén thư mục `MSSV` này lại và nộp ở link trên moodle.\n",
    "\n",
    "**Nội dung bài tập**\n",
    "\n",
    "Sử dụng module regex và request để thu thập đường dẫn và hình ảnh từ một trang web."
   ]
  },
  {
   "cell_type": "markdown",
   "metadata": {
    "colab_type": "text",
    "id": "7SXPfWz-V4Kg"
   },
   "source": [
    "#### 1. Import"
   ]
  },
  {
   "cell_type": "code",
   "execution_count": 1,
   "metadata": {
    "colab": {},
    "colab_type": "code",
    "id": "NZH1daHoV4Kg"
   },
   "outputs": [],
   "source": [
    "import requests\n",
    "import re\n",
    "from lxml import html"
   ]
  },
  {
   "cell_type": "code",
   "execution_count": 2,
   "metadata": {},
   "outputs": [],
   "source": [
    "# page and html dom tree\n",
    "url = \"http://www.hcmus.edu.vn\"\n",
    "page = requests.get(url)\n",
    "tree = html.fromstring(page.content)"
   ]
  },
  {
   "cell_type": "markdown",
   "metadata": {
    "colab_type": "text",
    "id": "WzzuOjDGV4Kl"
   },
   "source": [
    "#### 2. Thu thập liên kết"
   ]
  },
  {
   "cell_type": "code",
   "execution_count": 3,
   "metadata": {
    "colab": {},
    "colab_type": "code",
    "id": "bKNjb0THV4Km",
    "outputId": "ef7e8623-d644-4001-ce5c-31b845a37035"
   },
   "outputs": [],
   "source": [
    "# TODO:\n",
    "# Displays all the links present in the specified root URL - \"http://www.hcmus.edu.vn\"\n",
    "# use regex to find all urls from r.text (http[s]://...)\n",
    "# urls = ? \n",
    "\n",
    "urls = []\n",
    "if(page.status_code == 200):\n",
    "    urls = tree.xpath('//a/@href')\n",
    "\n",
    "# Checking results?\n",
    "# for i in urls:\n",
    "#     print(i)\n",
    "\n",
    "#Save urls to links.txt\n",
    "fp = open('links.txt', 'w')\n",
    "for i in urls:\n",
    "    fp.write(i)\n",
    "    fp.write('\\n')\n",
    "fp.close()"
   ]
  },
  {
   "cell_type": "markdown",
   "metadata": {
    "colab_type": "text",
    "id": "uZJne0sSV4Kq"
   },
   "source": [
    "#### 3. Thu thập hình ảnh"
   ]
  },
  {
   "cell_type": "code",
   "execution_count": 4,
   "metadata": {
    "colab": {},
    "colab_type": "code",
    "id": "IiYJxbp6V4Kq",
    "outputId": "2b6d5963-213f-4842-c61f-52d94c7b5b43"
   },
   "outputs": [
    {
     "name": "stdout",
     "output_type": "stream",
     "text": [
      "http://www.hcmus.edu.vn/images/logo81.png\n",
      "http://www.hcmus.edu.vn/images/logo81.png\n",
      "http://www.hcmus.edu.vn/images/logo81.png\n",
      "http://www.hcmus.edu.vn/images/2020/02/04/1-img_4820.jpg\n",
      "http://www.hcmus.edu.vn/images/2020/04/07/bn2.jpg\n",
      "http://www.hcmus.edu.vn/images/2021/03/16/icon-01.png\n",
      "http://www.hcmus.edu.vn/images/2021/03/16/icon-02.png\n",
      "http://www.hcmus.edu.vn/images/2021/03/16/icon-03.png\n",
      "http://www.hcmus.edu.vn/images/2021/03/16/icon-04.png\n",
      "http://www.hcmus.edu.vn/images/2021/02/16/145472669_2907185929563442_5607552814352607280_n.png\n",
      "http://www.hcmus.edu.vn/images/2021/02/16/145472669_2907185929563442_5607552814352607280_n.png\n",
      "http://www.hcmus.edu.vn/images/2021/02/01/thong-bao-01-1.png\n",
      "http://www.hcmus.edu.vn/images/2017/05/08/hcmus2.jpg\n",
      "http://www.hcmus.edu.vn/images/2017/08/14/khcn.jpg\n",
      "http://www.hcmus.edu.vn/images/2017/08/14/bmrat1.png\n",
      "http://www.hcmus.edu.vn/images/2017/08/14/logo_psc1.png\n",
      "http://www.hcmus.edu.vn/images/2020/04/09/logo-khtn_full.png\n"
     ]
    }
   ],
   "source": [
    "# TODO:\n",
    "# Displays the source of all the images present in the root URL:\n",
    "# img_src=?\n",
    "\n",
    "img_src = []\n",
    "if(page.status_code == 200):\n",
    "    img_src = tree.xpath('//img/@src')\n",
    "\n",
    "# Checking results?\n",
    "for i in img_src:\n",
    "    print(url + i)\n",
    "\n",
    "fp = open('images.txt', 'w')\n",
    "for i in img_src:\n",
    "    fp.write(i)\n",
    "    fp.write('\\n')\n",
    "fp.close()"
   ]
  }
 ],
 "metadata": {
  "colab": {
   "name": "Lab01-WebCrawler.ipynb",
   "provenance": []
  },
  "kernelspec": {
   "display_name": "Python 3",
   "language": "python",
   "name": "python3"
  },
  "language_info": {
   "codemirror_mode": {
    "name": "ipython",
    "version": 3
   },
   "file_extension": ".py",
   "mimetype": "text/x-python",
   "name": "python",
   "nbconvert_exporter": "python",
   "pygments_lexer": "ipython3",
   "version": "3.8.5"
  }
 },
 "nbformat": 4,
 "nbformat_minor": 1
}
